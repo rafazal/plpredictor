{
 "cells": [
  {
   "cell_type": "code",
   "execution_count": null,
   "metadata": {},
   "outputs": [
    {
     "name": "stdout",
     "output_type": "stream",
     "text": [
      "Home MAE: 1.03\n",
      "Away MAE: 0.86\n",
      "Exact Scoreline Accuracy: 11.51%\n",
      "✅ Models and mappings saved successfully.\n"
     ]
    }
   ],
   "source": [
    "# 📦 Imports\n",
    "import pandas as pd\n",
    "import numpy as np\n",
    "import matplotlib.pyplot as plt\n",
    "import sys\n",
    "sys.path.append(\"../src\")\n",
    "\n",
    "from data.features import add_rolling_stats\n",
    "from sklearn.model_selection import train_test_split\n",
    "from sklearn.linear_model import PoissonRegressor\n",
    "from sklearn.preprocessing import StandardScaler\n",
    "from sklearn.pipeline import Pipeline\n",
    "from sklearn.metrics import mean_absolute_error\n",
    "import joblib\n",
    "import os\n",
    "\n",
    "# Load cleaned data and add features\n",
    "df = pd.read_csv(\"../data/processed/cleaned_matches.csv\")\n",
    "df = add_rolling_stats(df)\n",
    "\n",
    "# Encode team names\n",
    "teams = pd.concat([df['HomeTeam'], df['AwayTeam']]).unique()\n",
    "team_to_id = {team: idx for idx, team in enumerate(teams)}\n",
    "df['HomeTeamID'] = df['HomeTeam'].map(team_to_id)\n",
    "df['AwayTeamID'] = df['AwayTeam'].map(team_to_id)\n",
    "\n",
    "# Feature columns (no team IDs for better generalization)\n",
    "feature_cols = [\n",
    "    'HomeRollingGF', 'HomeRollingGA', 'HomeRollingPoints', 'HomeFormScore', 'HomeGDForm',\n",
    "    'AwayRollingGF', 'AwayRollingGA', 'AwayRollingPoints', 'AwayFormScore', 'AwayGDForm'\n",
    "]\n",
    "X = df[feature_cols].fillna(0)  # fill missing\n",
    "\n",
    "# Targets\n",
    "y_home = df['HomeGoals']\n",
    "y_away = df['AwayGoals']\n",
    "\n",
    "# Train/Test split\n",
    "X_train, X_test, y_home_train, y_home_test = train_test_split(X, y_home, test_size=0.2, random_state=42)\n",
    "_, _, y_away_train, y_away_test = train_test_split(X, y_away, test_size=0.2, random_state=42)\n",
    "\n",
    "# ⚙️ Pipelines\n",
    "home_pipeline = Pipeline([\n",
    "    (\"scaler\", StandardScaler()),\n",
    "    (\"regressor\", PoissonRegressor(alpha=0.5, max_iter=300))\n",
    "])\n",
    "\n",
    "away_pipeline = Pipeline([\n",
    "    (\"scaler\", StandardScaler()),\n",
    "    (\"regressor\", PoissonRegressor(alpha=0.5, max_iter=300))\n",
    "])\n",
    "\n",
    "# Train\n",
    "home_pipeline.fit(X_train, y_home_train)\n",
    "away_pipeline.fit(X_train, y_away_train)\n",
    "\n",
    "# Evaluate\n",
    "y_home_pred = np.round(np.clip(home_pipeline.predict(X_test), 0, 6)).astype(int)\n",
    "y_away_pred = np.round(np.clip(away_pipeline.predict(X_test), 0, 6)).astype(int)\n",
    "\n",
    "print(f\"Home MAE: {mean_absolute_error(y_home_test, y_home_pred):.2f}\")\n",
    "print(f\"Away MAE: {mean_absolute_error(y_away_test, y_away_pred):.2f}\")\n",
    "\n",
    "scoreline_actual = [f\"{h}-{a}\" for h, a in zip(y_home_test, y_away_test)]\n",
    "scoreline_pred = [f\"{h}-{a}\" for h, a in zip(y_home_pred, y_away_pred)]\n",
    "scoreline_accuracy = np.mean(np.array(scoreline_actual) == np.array(scoreline_pred))\n",
    "print(f\"Exact Scoreline Accuracy: {scoreline_accuracy:.2%}\")\n",
    "\n",
    "# Save models + mapping\n",
    "os.makedirs(\"../models\", exist_ok=True)\n",
    "joblib.dump(home_pipeline, \"../models/home_model.pkl\")\n",
    "joblib.dump(away_pipeline, \"../models/away_model.pkl\")\n",
    "joblib.dump(team_to_id, \"../models/team_to_id.pkl\")\n",
    "\n",
    "print(\"Models and mappings saved successfully.\")"
   ]
  },
  {
   "cell_type": "code",
   "execution_count": null,
   "metadata": {},
   "outputs": [],
   "source": []
  }
 ],
 "metadata": {
  "kernelspec": {
   "display_name": "venv",
   "language": "python",
   "name": "python3"
  },
  "language_info": {
   "codemirror_mode": {
    "name": "ipython",
    "version": 3
   },
   "file_extension": ".py",
   "mimetype": "text/x-python",
   "name": "python",
   "nbconvert_exporter": "python",
   "pygments_lexer": "ipython3",
   "version": "3.13.1"
  }
 },
 "nbformat": 4,
 "nbformat_minor": 2
}
